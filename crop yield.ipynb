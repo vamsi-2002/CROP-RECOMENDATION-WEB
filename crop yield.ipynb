{
 "cells": [
  {
   "cell_type": "markdown",
   "metadata": {},
   "source": [
    "# Crop yield Prediction"
   ]
  },
  {
   "cell_type": "markdown",
   "metadata": {},
   "source": [
    "### Import necessary libraries"
   ]
  },
  {
   "cell_type": "markdown",
   "metadata": {},
   "source": [
    "-->NumPy stands for ‘Numerical Python’ or ‘Numeric Python’. It is an open source module of Python which provides fast mathematical computation on arrays and matrices.\n",
    "\n",
    "->Similar to NumPy, Pandas is one of the most widely used python libraries in data science. It provides high-performance, easy to use structures and data analysis tools. Unlike NumPy library which provides objects for multi-dimensional arrays, Pandas provides in-memory 2d table object called Dataframe. It is like a spreadsheet with column names and row labels."
   ]
  },
  {
   "cell_type": "code",
   "execution_count": 3,
   "metadata": {},
   "outputs": [],
   "source": [
    "import pandas as pd\n",
    "import numpy as np\n",
    "import matplotlib.pyplot as plt\n",
    "import seaborn as sns"
   ]
  },
  {
   "cell_type": "markdown",
   "metadata": {},
   "source": [
    "-->NumPy stands for ‘Numerical Python’ or ‘Numeric Python’. It is an open source module of Python which provides fast mathematical computation on arrays and matrices.\n",
    "\n",
    "->Similar to NumPy, Pandas is one of the most widely used python libraries in data science. It provides high-performance, easy to use structures and data analysis tools. Unlike NumPy library which provides objects for multi-dimensional arrays, Pandas provides in-memory 2d table object called Dataframe. It is like a spreadsheet with column names and row labels."
   ]
  },
  {
   "cell_type": "markdown",
   "metadata": {},
   "source": [
    "### load the dataset"
   ]
  },
  {
   "cell_type": "code",
   "execution_count": 4,
   "metadata": {},
   "outputs": [
    {
     "ename": "ImportError",
     "evalue": "Missing optional dependency 'openpyxl'.  Use pip or conda to install openpyxl.",
     "output_type": "error",
     "traceback": [
      "\u001b[1;31m---------------------------------------------------------------------------\u001b[0m",
      "\u001b[1;31mModuleNotFoundError\u001b[0m                       Traceback (most recent call last)",
      "File \u001b[1;32mc:\\Users\\suryakant kumar\\AppData\\Local\\Programs\\Python\\Python39\\lib\\site-packages\\pandas\\compat\\_optional.py:138\u001b[0m, in \u001b[0;36mimport_optional_dependency\u001b[1;34m(name, extra, errors, min_version)\u001b[0m\n\u001b[0;32m    137\u001b[0m \u001b[39mtry\u001b[39;00m:\n\u001b[1;32m--> 138\u001b[0m     module \u001b[39m=\u001b[39m importlib\u001b[39m.\u001b[39;49mimport_module(name)\n\u001b[0;32m    139\u001b[0m \u001b[39mexcept\u001b[39;00m \u001b[39mImportError\u001b[39;00m:\n",
      "File \u001b[1;32mc:\\Users\\suryakant kumar\\AppData\\Local\\Programs\\Python\\Python39\\lib\\importlib\\__init__.py:127\u001b[0m, in \u001b[0;36mimport_module\u001b[1;34m(name, package)\u001b[0m\n\u001b[0;32m    126\u001b[0m         level \u001b[39m+\u001b[39m\u001b[39m=\u001b[39m \u001b[39m1\u001b[39m\n\u001b[1;32m--> 127\u001b[0m \u001b[39mreturn\u001b[39;00m _bootstrap\u001b[39m.\u001b[39;49m_gcd_import(name[level:], package, level)\n",
      "File \u001b[1;32m<frozen importlib._bootstrap>:1030\u001b[0m, in \u001b[0;36m_gcd_import\u001b[1;34m(name, package, level)\u001b[0m\n",
      "File \u001b[1;32m<frozen importlib._bootstrap>:1007\u001b[0m, in \u001b[0;36m_find_and_load\u001b[1;34m(name, import_)\u001b[0m\n",
      "File \u001b[1;32m<frozen importlib._bootstrap>:984\u001b[0m, in \u001b[0;36m_find_and_load_unlocked\u001b[1;34m(name, import_)\u001b[0m\n",
      "\u001b[1;31mModuleNotFoundError\u001b[0m: No module named 'openpyxl'",
      "\nDuring handling of the above exception, another exception occurred:\n",
      "\u001b[1;31mImportError\u001b[0m                               Traceback (most recent call last)",
      "\u001b[1;32mc:\\Users\\suryakant kumar\\OneDrive\\Desktop\\CROP_REC_YIELD_PRICE\\notebooks\\crop yield.ipynb Cell 7'\u001b[0m in \u001b[0;36m<module>\u001b[1;34m\u001b[0m\n\u001b[1;32m----> <a href='vscode-notebook-cell:/c%3A/Users/suryakant%20kumar/OneDrive/Desktop/CROP_REC_YIELD_PRICE/notebooks/crop%20yield.ipynb#ch0000005?line=0'>1</a>\u001b[0m data \u001b[39m=\u001b[39m pd\u001b[39m.\u001b[39;49mread_excel(\u001b[39m'\u001b[39;49m\u001b[39mcrop_csv_file_price.xlsx\u001b[39;49m\u001b[39m'\u001b[39;49m)\n",
      "File \u001b[1;32mc:\\Users\\suryakant kumar\\AppData\\Local\\Programs\\Python\\Python39\\lib\\site-packages\\pandas\\util\\_decorators.py:311\u001b[0m, in \u001b[0;36mdeprecate_nonkeyword_arguments.<locals>.decorate.<locals>.wrapper\u001b[1;34m(*args, **kwargs)\u001b[0m\n\u001b[0;32m    305\u001b[0m \u001b[39mif\u001b[39;00m \u001b[39mlen\u001b[39m(args) \u001b[39m>\u001b[39m num_allow_args:\n\u001b[0;32m    306\u001b[0m     warnings\u001b[39m.\u001b[39mwarn(\n\u001b[0;32m    307\u001b[0m         msg\u001b[39m.\u001b[39mformat(arguments\u001b[39m=\u001b[39marguments),\n\u001b[0;32m    308\u001b[0m         \u001b[39mFutureWarning\u001b[39;00m,\n\u001b[0;32m    309\u001b[0m         stacklevel\u001b[39m=\u001b[39mstacklevel,\n\u001b[0;32m    310\u001b[0m     )\n\u001b[1;32m--> 311\u001b[0m \u001b[39mreturn\u001b[39;00m func(\u001b[39m*\u001b[39margs, \u001b[39m*\u001b[39m\u001b[39m*\u001b[39mkwargs)\n",
      "File \u001b[1;32mc:\\Users\\suryakant kumar\\AppData\\Local\\Programs\\Python\\Python39\\lib\\site-packages\\pandas\\io\\excel\\_base.py:457\u001b[0m, in \u001b[0;36mread_excel\u001b[1;34m(io, sheet_name, header, names, index_col, usecols, squeeze, dtype, engine, converters, true_values, false_values, skiprows, nrows, na_values, keep_default_na, na_filter, verbose, parse_dates, date_parser, thousands, decimal, comment, skipfooter, convert_float, mangle_dupe_cols, storage_options)\u001b[0m\n\u001b[0;32m    455\u001b[0m \u001b[39mif\u001b[39;00m \u001b[39mnot\u001b[39;00m \u001b[39misinstance\u001b[39m(io, ExcelFile):\n\u001b[0;32m    456\u001b[0m     should_close \u001b[39m=\u001b[39m \u001b[39mTrue\u001b[39;00m\n\u001b[1;32m--> 457\u001b[0m     io \u001b[39m=\u001b[39m ExcelFile(io, storage_options\u001b[39m=\u001b[39;49mstorage_options, engine\u001b[39m=\u001b[39;49mengine)\n\u001b[0;32m    458\u001b[0m \u001b[39melif\u001b[39;00m engine \u001b[39mand\u001b[39;00m engine \u001b[39m!=\u001b[39m io\u001b[39m.\u001b[39mengine:\n\u001b[0;32m    459\u001b[0m     \u001b[39mraise\u001b[39;00m \u001b[39mValueError\u001b[39;00m(\n\u001b[0;32m    460\u001b[0m         \u001b[39m\"\u001b[39m\u001b[39mEngine should not be specified when passing \u001b[39m\u001b[39m\"\u001b[39m\n\u001b[0;32m    461\u001b[0m         \u001b[39m\"\u001b[39m\u001b[39man ExcelFile - ExcelFile already has the engine set\u001b[39m\u001b[39m\"\u001b[39m\n\u001b[0;32m    462\u001b[0m     )\n",
      "File \u001b[1;32mc:\\Users\\suryakant kumar\\AppData\\Local\\Programs\\Python\\Python39\\lib\\site-packages\\pandas\\io\\excel\\_base.py:1419\u001b[0m, in \u001b[0;36mExcelFile.__init__\u001b[1;34m(self, path_or_buffer, engine, storage_options)\u001b[0m\n\u001b[0;32m   1416\u001b[0m \u001b[39mself\u001b[39m\u001b[39m.\u001b[39mengine \u001b[39m=\u001b[39m engine\n\u001b[0;32m   1417\u001b[0m \u001b[39mself\u001b[39m\u001b[39m.\u001b[39mstorage_options \u001b[39m=\u001b[39m storage_options\n\u001b[1;32m-> 1419\u001b[0m \u001b[39mself\u001b[39m\u001b[39m.\u001b[39m_reader \u001b[39m=\u001b[39m \u001b[39mself\u001b[39;49m\u001b[39m.\u001b[39;49m_engines[engine](\u001b[39mself\u001b[39;49m\u001b[39m.\u001b[39;49m_io, storage_options\u001b[39m=\u001b[39;49mstorage_options)\n",
      "File \u001b[1;32mc:\\Users\\suryakant kumar\\AppData\\Local\\Programs\\Python\\Python39\\lib\\site-packages\\pandas\\io\\excel\\_openpyxl.py:524\u001b[0m, in \u001b[0;36mOpenpyxlReader.__init__\u001b[1;34m(self, filepath_or_buffer, storage_options)\u001b[0m\n\u001b[0;32m    509\u001b[0m \u001b[39mdef\u001b[39;00m \u001b[39m__init__\u001b[39m(\n\u001b[0;32m    510\u001b[0m     \u001b[39mself\u001b[39m,\n\u001b[0;32m    511\u001b[0m     filepath_or_buffer: FilePath \u001b[39m|\u001b[39m ReadBuffer[\u001b[39mbytes\u001b[39m],\n\u001b[0;32m    512\u001b[0m     storage_options: StorageOptions \u001b[39m=\u001b[39m \u001b[39mNone\u001b[39;00m,\n\u001b[0;32m    513\u001b[0m ) \u001b[39m-\u001b[39m\u001b[39m>\u001b[39m \u001b[39mNone\u001b[39;00m:\n\u001b[0;32m    514\u001b[0m     \u001b[39m\"\"\"\u001b[39;00m\n\u001b[0;32m    515\u001b[0m \u001b[39m    Reader using openpyxl engine.\u001b[39;00m\n\u001b[0;32m    516\u001b[0m \n\u001b[1;32m   (...)\u001b[0m\n\u001b[0;32m    522\u001b[0m \u001b[39m        passed to fsspec for appropriate URLs (see ``_get_filepath_or_buffer``)\u001b[39;00m\n\u001b[0;32m    523\u001b[0m \u001b[39m    \"\"\"\u001b[39;00m\n\u001b[1;32m--> 524\u001b[0m     import_optional_dependency(\u001b[39m\"\u001b[39;49m\u001b[39mopenpyxl\u001b[39;49m\u001b[39m\"\u001b[39;49m)\n\u001b[0;32m    525\u001b[0m     \u001b[39msuper\u001b[39m()\u001b[39m.\u001b[39m\u001b[39m__init__\u001b[39m(filepath_or_buffer, storage_options\u001b[39m=\u001b[39mstorage_options)\n",
      "File \u001b[1;32mc:\\Users\\suryakant kumar\\AppData\\Local\\Programs\\Python\\Python39\\lib\\site-packages\\pandas\\compat\\_optional.py:141\u001b[0m, in \u001b[0;36mimport_optional_dependency\u001b[1;34m(name, extra, errors, min_version)\u001b[0m\n\u001b[0;32m    139\u001b[0m \u001b[39mexcept\u001b[39;00m \u001b[39mImportError\u001b[39;00m:\n\u001b[0;32m    140\u001b[0m     \u001b[39mif\u001b[39;00m errors \u001b[39m==\u001b[39m \u001b[39m\"\u001b[39m\u001b[39mraise\u001b[39m\u001b[39m\"\u001b[39m:\n\u001b[1;32m--> 141\u001b[0m         \u001b[39mraise\u001b[39;00m \u001b[39mImportError\u001b[39;00m(msg)\n\u001b[0;32m    142\u001b[0m     \u001b[39melse\u001b[39;00m:\n\u001b[0;32m    143\u001b[0m         \u001b[39mreturn\u001b[39;00m \u001b[39mNone\u001b[39;00m\n",
      "\u001b[1;31mImportError\u001b[0m: Missing optional dependency 'openpyxl'.  Use pip or conda to install openpyxl."
     ]
    }
   ],
   "source": [
    "data = pd.read_excel('crop_csv_file_price.xlsx')"
   ]
  },
  {
   "cell_type": "code",
   "execution_count": null,
   "metadata": {},
   "outputs": [
    {
     "data": {
      "text/plain": [
       "49999"
      ]
     },
     "execution_count": 3,
     "metadata": {},
     "output_type": "execute_result"
    }
   ],
   "source": [
    "#length of the dataset\n",
    "len(data)"
   ]
  },
  {
   "cell_type": "code",
   "execution_count": null,
   "metadata": {},
   "outputs": [
    {
     "data": {
      "text/plain": [
       "(49999, 10)"
      ]
     },
     "execution_count": 4,
     "metadata": {},
     "output_type": "execute_result"
    }
   ],
   "source": [
    "#shape of the dataset\n",
    "data.shape"
   ]
  },
  {
   "cell_type": "code",
   "execution_count": null,
   "metadata": {},
   "outputs": [
    {
     "data": {
      "text/html": [
       "<div>\n",
       "<style scoped>\n",
       "    .dataframe tbody tr th:only-of-type {\n",
       "        vertical-align: middle;\n",
       "    }\n",
       "\n",
       "    .dataframe tbody tr th {\n",
       "        vertical-align: top;\n",
       "    }\n",
       "\n",
       "    .dataframe thead th {\n",
       "        text-align: right;\n",
       "    }\n",
       "</style>\n",
       "<table border=\"1\" class=\"dataframe\">\n",
       "  <thead>\n",
       "    <tr style=\"text-align: right;\">\n",
       "      <th></th>\n",
       "      <th>State_Name</th>\n",
       "      <th>District_Name</th>\n",
       "      <th>Crop_Year</th>\n",
       "      <th>Season</th>\n",
       "      <th>Crop</th>\n",
       "      <th>Temperature</th>\n",
       "      <th>humidity</th>\n",
       "      <th>soil moisture</th>\n",
       "      <th>area</th>\n",
       "      <th>Production</th>\n",
       "    </tr>\n",
       "  </thead>\n",
       "  <tbody>\n",
       "    <tr>\n",
       "      <th>0</th>\n",
       "      <td>Andaman and Nicobar Islands</td>\n",
       "      <td>NICOBARS</td>\n",
       "      <td>2000</td>\n",
       "      <td>Kharif</td>\n",
       "      <td>Arecanut</td>\n",
       "      <td>36</td>\n",
       "      <td>35</td>\n",
       "      <td>45</td>\n",
       "      <td>1254.0</td>\n",
       "      <td>2000.0</td>\n",
       "    </tr>\n",
       "    <tr>\n",
       "      <th>1</th>\n",
       "      <td>Andaman and Nicobar Islands</td>\n",
       "      <td>NICOBARS</td>\n",
       "      <td>2000</td>\n",
       "      <td>Kharif</td>\n",
       "      <td>Other Kharif pulses</td>\n",
       "      <td>37</td>\n",
       "      <td>40</td>\n",
       "      <td>46</td>\n",
       "      <td>2.0</td>\n",
       "      <td>1.0</td>\n",
       "    </tr>\n",
       "    <tr>\n",
       "      <th>2</th>\n",
       "      <td>Andaman and Nicobar Islands</td>\n",
       "      <td>NICOBARS</td>\n",
       "      <td>2000</td>\n",
       "      <td>Kharif</td>\n",
       "      <td>Rice</td>\n",
       "      <td>36</td>\n",
       "      <td>41</td>\n",
       "      <td>50</td>\n",
       "      <td>102.0</td>\n",
       "      <td>321.0</td>\n",
       "    </tr>\n",
       "    <tr>\n",
       "      <th>3</th>\n",
       "      <td>Andaman and Nicobar Islands</td>\n",
       "      <td>NICOBARS</td>\n",
       "      <td>2000</td>\n",
       "      <td>Whole Year</td>\n",
       "      <td>Banana</td>\n",
       "      <td>37</td>\n",
       "      <td>42</td>\n",
       "      <td>55</td>\n",
       "      <td>176.0</td>\n",
       "      <td>641.0</td>\n",
       "    </tr>\n",
       "    <tr>\n",
       "      <th>4</th>\n",
       "      <td>Andaman and Nicobar Islands</td>\n",
       "      <td>NICOBARS</td>\n",
       "      <td>2000</td>\n",
       "      <td>Whole Year</td>\n",
       "      <td>Cashewnut</td>\n",
       "      <td>36</td>\n",
       "      <td>40</td>\n",
       "      <td>54</td>\n",
       "      <td>720.0</td>\n",
       "      <td>165.0</td>\n",
       "    </tr>\n",
       "    <tr>\n",
       "      <th>...</th>\n",
       "      <td>...</td>\n",
       "      <td>...</td>\n",
       "      <td>...</td>\n",
       "      <td>...</td>\n",
       "      <td>...</td>\n",
       "      <td>...</td>\n",
       "      <td>...</td>\n",
       "      <td>...</td>\n",
       "      <td>...</td>\n",
       "      <td>...</td>\n",
       "    </tr>\n",
       "    <tr>\n",
       "      <th>49994</th>\n",
       "      <td>Chhattisgarh</td>\n",
       "      <td>JANJGIR-CHAMPA</td>\n",
       "      <td>2006</td>\n",
       "      <td>Kharif</td>\n",
       "      <td>Small millets</td>\n",
       "      <td>36</td>\n",
       "      <td>35</td>\n",
       "      <td>45</td>\n",
       "      <td>27.0</td>\n",
       "      <td>7.0</td>\n",
       "    </tr>\n",
       "    <tr>\n",
       "      <th>49995</th>\n",
       "      <td>Chhattisgarh</td>\n",
       "      <td>JANJGIR-CHAMPA</td>\n",
       "      <td>2006</td>\n",
       "      <td>Kharif</td>\n",
       "      <td>Soyabean</td>\n",
       "      <td>37</td>\n",
       "      <td>40</td>\n",
       "      <td>46</td>\n",
       "      <td>27.0</td>\n",
       "      <td>32.0</td>\n",
       "    </tr>\n",
       "    <tr>\n",
       "      <th>49996</th>\n",
       "      <td>Chhattisgarh</td>\n",
       "      <td>JANJGIR-CHAMPA</td>\n",
       "      <td>2006</td>\n",
       "      <td>Kharif</td>\n",
       "      <td>Sunflower</td>\n",
       "      <td>36</td>\n",
       "      <td>41</td>\n",
       "      <td>50</td>\n",
       "      <td>450.0</td>\n",
       "      <td>213.0</td>\n",
       "    </tr>\n",
       "    <tr>\n",
       "      <th>49997</th>\n",
       "      <td>Chhattisgarh</td>\n",
       "      <td>JANJGIR-CHAMPA</td>\n",
       "      <td>2006</td>\n",
       "      <td>Kharif</td>\n",
       "      <td>Urad</td>\n",
       "      <td>37</td>\n",
       "      <td>42</td>\n",
       "      <td>55</td>\n",
       "      <td>1778.0</td>\n",
       "      <td>309.0</td>\n",
       "    </tr>\n",
       "    <tr>\n",
       "      <th>49998</th>\n",
       "      <td>Chhattisgarh</td>\n",
       "      <td>JANJGIR-CHAMPA</td>\n",
       "      <td>2006</td>\n",
       "      <td>Rabi</td>\n",
       "      <td>Gram</td>\n",
       "      <td>36</td>\n",
       "      <td>40</td>\n",
       "      <td>54</td>\n",
       "      <td>216.0</td>\n",
       "      <td>194.0</td>\n",
       "    </tr>\n",
       "  </tbody>\n",
       "</table>\n",
       "<p>49999 rows × 10 columns</p>\n",
       "</div>"
      ],
      "text/plain": [
       "                        State_Name   District_Name  Crop_Year       Season  \\\n",
       "0      Andaman and Nicobar Islands        NICOBARS       2000  Kharif        \n",
       "1      Andaman and Nicobar Islands        NICOBARS       2000  Kharif        \n",
       "2      Andaman and Nicobar Islands        NICOBARS       2000  Kharif        \n",
       "3      Andaman and Nicobar Islands        NICOBARS       2000  Whole Year    \n",
       "4      Andaman and Nicobar Islands        NICOBARS       2000  Whole Year    \n",
       "...                            ...             ...        ...          ...   \n",
       "49994                 Chhattisgarh  JANJGIR-CHAMPA       2006  Kharif        \n",
       "49995                 Chhattisgarh  JANJGIR-CHAMPA       2006  Kharif        \n",
       "49996                 Chhattisgarh  JANJGIR-CHAMPA       2006  Kharif        \n",
       "49997                 Chhattisgarh  JANJGIR-CHAMPA       2006  Kharif        \n",
       "49998                 Chhattisgarh  JANJGIR-CHAMPA       2006  Rabi          \n",
       "\n",
       "                      Crop  Temperature  humidity  soil moisture    area  \\\n",
       "0                 Arecanut           36        35             45  1254.0   \n",
       "1      Other Kharif pulses           37        40             46     2.0   \n",
       "2                     Rice           36        41             50   102.0   \n",
       "3                   Banana           37        42             55   176.0   \n",
       "4                Cashewnut           36        40             54   720.0   \n",
       "...                    ...          ...       ...            ...     ...   \n",
       "49994        Small millets           36        35             45    27.0   \n",
       "49995             Soyabean           37        40             46    27.0   \n",
       "49996            Sunflower           36        41             50   450.0   \n",
       "49997                 Urad           37        42             55  1778.0   \n",
       "49998                 Gram           36        40             54   216.0   \n",
       "\n",
       "       Production  \n",
       "0          2000.0  \n",
       "1             1.0  \n",
       "2           321.0  \n",
       "3           641.0  \n",
       "4           165.0  \n",
       "...           ...  \n",
       "49994         7.0  \n",
       "49995        32.0  \n",
       "49996       213.0  \n",
       "49997       309.0  \n",
       "49998       194.0  \n",
       "\n",
       "[49999 rows x 10 columns]"
      ]
     },
     "execution_count": 5,
     "metadata": {},
     "output_type": "execute_result"
    }
   ],
   "source": [
    "#print the data\n",
    "data"
   ]
  },
  {
   "cell_type": "markdown",
   "metadata": {},
   "source": [
    "# Data Visulization"
   ]
  },
  {
   "cell_type": "code",
   "execution_count": null,
   "metadata": {},
   "outputs": [
    {
     "name": "stderr",
     "output_type": "stream",
     "text": [
      "C:\\Users\\Romes\\anaconda3\\envs\\csv\\lib\\site-packages\\seaborn\\_decorators.py:36: FutureWarning: Pass the following variables as keyword args: x, y. From version 0.12, the only valid positional argument will be `data`, and passing other arguments without an explicit keyword will result in an error or misinterpretation.\n",
      "  warnings.warn(\n"
     ]
    },
    {
     "data": {
      "text/plain": [
       "<AxesSubplot:xlabel='Crop_Year', ylabel='Production'>"
      ]
     },
     "execution_count": 6,
     "metadata": {},
     "output_type": "execute_result"
    },
    {
     "data": {
      "image/png": "[encoded data removed]",
      "text/plain": [
       "<Figure size 432x288 with 1 Axes>"
      ]
     },
     "metadata": {
      "needs_background": "light"
     },
     "output_type": "display_data"
    }
   ],
   "source": [
    "#plot a graph for crop_yearand Production\n",
    "sns.lineplot(data[\"Crop_Year\"],data[\"Production\"])"
   ]
  },
  {
   "cell_type": "code",
   "execution_count": null,
   "metadata": {},
   "outputs": [
    {
     "name": "stderr",
     "output_type": "stream",
     "text": [
      "C:\\Users\\Romes\\anaconda3\\envs\\csv\\lib\\site-packages\\seaborn\\_decorators.py:36: FutureWarning: Pass the following variables as keyword args: x, y. From version 0.12, the only valid positional argument will be `data`, and passing other arguments without an explicit keyword will result in an error or misinterpretation.\n",
      "  warnings.warn(\n"
     ]
    },
    {
     "data": {
      "text/plain": [
       "<AxesSubplot:xlabel='Season', ylabel='Production'>"
      ]
     },
     "execution_count": 7,
     "metadata": {},
     "output_type": "execute_result"
    },
    {
     "data": {
      "image/png": "[encoded data removed]",
      "text/plain": [
       "<Figure size 432x288 with 1 Axes>"
      ]
     },
     "metadata": {
      "needs_background": "light"
     },
     "output_type": "display_data"
    }
   ],
   "source": [
    "#plot for the seasonal production\n",
    "sns.barplot(data[\"Season\"],data[\"Production\"])"
   ]
  },
  {
   "cell_type": "code",
   "execution_count": null,
   "metadata": {},
   "outputs": [
    {
     "data": {
      "text/html": [
       "<div>\n",
       "<style scoped>\n",
       "    .dataframe tbody tr th:only-of-type {\n",
       "        vertical-align: middle;\n",
       "    }\n",
       "\n",
       "    .dataframe tbody tr th {\n",
       "        vertical-align: top;\n",
       "    }\n",
       "\n",
       "    .dataframe thead th {\n",
       "        text-align: right;\n",
       "    }\n",
       "</style>\n",
       "<table border=\"1\" class=\"dataframe\">\n",
       "  <thead>\n",
       "    <tr style=\"text-align: right;\">\n",
       "      <th></th>\n",
       "      <th>Production</th>\n",
       "    </tr>\n",
       "    <tr>\n",
       "      <th>Season</th>\n",
       "      <th></th>\n",
       "    </tr>\n",
       "  </thead>\n",
       "  <tbody>\n",
       "    <tr>\n",
       "      <th>Autumn</th>\n",
       "      <td>3.187838e+07</td>\n",
       "    </tr>\n",
       "    <tr>\n",
       "      <th>Kharif</th>\n",
       "      <td>2.890649e+08</td>\n",
       "    </tr>\n",
       "    <tr>\n",
       "      <th>Rabi</th>\n",
       "      <td>2.150024e+08</td>\n",
       "    </tr>\n",
       "    <tr>\n",
       "      <th>Summer</th>\n",
       "      <td>3.285227e+07</td>\n",
       "    </tr>\n",
       "    <tr>\n",
       "      <th>Whole Year</th>\n",
       "      <td>1.986870e+10</td>\n",
       "    </tr>\n",
       "    <tr>\n",
       "      <th>Winter</th>\n",
       "      <td>1.333412e+08</td>\n",
       "    </tr>\n",
       "  </tbody>\n",
       "</table>\n",
       "</div>"
      ],
      "text/plain": [
       "               Production\n",
       "Season                   \n",
       "Autumn       3.187838e+07\n",
       "Kharif       2.890649e+08\n",
       "Rabi         2.150024e+08\n",
       "Summer       3.285227e+07\n",
       "Whole Year   1.986870e+10\n",
       "Winter       1.333412e+08"
      ]
     },
     "execution_count": 8,
     "metadata": {},
     "output_type": "execute_result"
    }
   ],
   "source": [
    "#data grouped by season for Productions\n",
    "data.groupby(\"Season\",axis=0).agg({\"Production\":np.sum})"
   ]
  },
  {
   "cell_type": "code",
   "execution_count": null,
   "metadata": {},
   "outputs": [
    {
     "data": {
      "text/plain": [
       "Rice                 3853\n",
       "Maize                3249\n",
       "Moong(Green Gram)    2084\n",
       "Dry chillies         1595\n",
       "Arhar/Tur            1578\n",
       "                     ... \n",
       "Grapes                 17\n",
       "Varagu                 13\n",
       "Peas  (vegetable)       3\n",
       "other fibres            2\n",
       "Guar seed               1\n",
       "Name: Crop, Length: 80, dtype: int64"
      ]
     },
     "execution_count": 9,
     "metadata": {},
     "output_type": "execute_result"
    }
   ],
   "source": [
    "#unique crop value counts\n",
    "data[\"Crop\"].value_counts()"
   ]
  },
  {
   "cell_type": "markdown",
   "metadata": {},
   "source": [
    "### Data Exploration"
   ]
  },
  {
   "cell_type": "markdown",
   "metadata": {},
   "source": [
    "Dataset comprises of 49999 observations and 10 characteristics. Out of which one is dependent variable and rest 9 are independent variables — physico-chemical characteristics. It is also a good practice to know the columns and their corresponding data types,along with finding whether they contain null values or not."
   ]
  },
  {
   "cell_type": "code",
   "execution_count": null,
   "metadata": {},
   "outputs": [
    {
     "name": "stdout",
     "output_type": "stream",
     "text": [
      "<class 'pandas.core.frame.DataFrame'>\n",
      "RangeIndex: 49999 entries, 0 to 49998\n",
      "Data columns (total 10 columns):\n",
      " #   Column         Non-Null Count  Dtype  \n",
      "---  ------         --------------  -----  \n",
      " 0   State_Name     49999 non-null  object \n",
      " 1   District_Name  49999 non-null  object \n",
      " 2   Crop_Year      49999 non-null  int64  \n",
      " 3   Season         49999 non-null  object \n",
      " 4   Crop           49999 non-null  object \n",
      " 5   Temperature    49999 non-null  int64  \n",
      " 6   humidity       49999 non-null  int64  \n",
      " 7   soil moisture  49999 non-null  int64  \n",
      " 8    area          49999 non-null  float64\n",
      " 9   Production     49784 non-null  float64\n",
      "dtypes: float64(2), int64(4), object(4)\n",
      "memory usage: 3.8+ MB\n"
     ]
    }
   ],
   "source": [
    "data.info()"
   ]
  },
  {
   "cell_type": "code",
   "execution_count": null,
   "metadata": {},
   "outputs": [
    {
     "name": "stdout",
     "output_type": "stream",
     "text": [
      "<class 'pandas.core.frame.DataFrame'>\n",
      "Int64Index: 49784 entries, 0 to 49998\n",
      "Data columns (total 10 columns):\n",
      " #   Column         Non-Null Count  Dtype  \n",
      "---  ------         --------------  -----  \n",
      " 0   State_Name     49784 non-null  object \n",
      " 1   District_Name  49784 non-null  object \n",
      " 2   Crop_Year      49784 non-null  int64  \n",
      " 3   Season         49784 non-null  object \n",
      " 4   Crop           49784 non-null  object \n",
      " 5   Temperature    49784 non-null  int64  \n",
      " 6   humidity       49784 non-null  int64  \n",
      " 7   soil moisture  49784 non-null  int64  \n",
      " 8    area          49784 non-null  float64\n",
      " 9   Production     49784 non-null  float64\n",
      "dtypes: float64(2), int64(4), object(4)\n",
      "memory usage: 4.2+ MB\n"
     ]
    }
   ],
   "source": [
    "#handling missing data\n",
    "data = data.dropna()\n",
    "data.info()"
   ]
  },
  {
   "cell_type": "markdown",
   "metadata": {},
   "source": [
    "Data has only float and integer values. No variable column has null/missing values. The describe() function in pandas is very handy in getting various summary statistics.This function returns the count, mean, standard deviation, minimum and maximum values and the quantiles of the data."
   ]
  },
  {
   "cell_type": "code",
   "execution_count": null,
   "metadata": {},
   "outputs": [
    {
     "data": {
      "text/html": [
       "<div>\n",
       "<style scoped>\n",
       "    .dataframe tbody tr th:only-of-type {\n",
       "        vertical-align: middle;\n",
       "    }\n",
       "\n",
       "    .dataframe tbody tr th {\n",
       "        vertical-align: top;\n",
       "    }\n",
       "\n",
       "    .dataframe thead th {\n",
       "        text-align: right;\n",
       "    }\n",
       "</style>\n",
       "<table border=\"1\" class=\"dataframe\">\n",
       "  <thead>\n",
       "    <tr style=\"text-align: right;\">\n",
       "      <th></th>\n",
       "      <th>Crop_Year</th>\n",
       "      <th>Temperature</th>\n",
       "      <th>humidity</th>\n",
       "      <th>soil moisture</th>\n",
       "      <th>area</th>\n",
       "      <th>Production</th>\n",
       "    </tr>\n",
       "  </thead>\n",
       "  <tbody>\n",
       "    <tr>\n",
       "      <th>count</th>\n",
       "      <td>49784.000000</td>\n",
       "      <td>49784.000000</td>\n",
       "      <td>49784.000000</td>\n",
       "      <td>49784.000000</td>\n",
       "      <td>49784.000000</td>\n",
       "      <td>4.978400e+04</td>\n",
       "    </tr>\n",
       "    <tr>\n",
       "      <th>mean</th>\n",
       "      <td>2005.872087</td>\n",
       "      <td>34.445746</td>\n",
       "      <td>44.775269</td>\n",
       "      <td>53.109312</td>\n",
       "      <td>7393.028993</td>\n",
       "      <td>4.132019e+05</td>\n",
       "    </tr>\n",
       "    <tr>\n",
       "      <th>std</th>\n",
       "      <td>5.108602</td>\n",
       "      <td>3.498277</td>\n",
       "      <td>6.662586</td>\n",
       "      <td>5.259326</td>\n",
       "      <td>27983.253218</td>\n",
       "      <td>1.232609e+07</td>\n",
       "    </tr>\n",
       "    <tr>\n",
       "      <th>min</th>\n",
       "      <td>1997.000000</td>\n",
       "      <td>25.000000</td>\n",
       "      <td>35.000000</td>\n",
       "      <td>45.000000</td>\n",
       "      <td>0.200000</td>\n",
       "      <td>0.000000e+00</td>\n",
       "    </tr>\n",
       "    <tr>\n",
       "      <th>25%</th>\n",
       "      <td>2002.000000</td>\n",
       "      <td>34.000000</td>\n",
       "      <td>40.000000</td>\n",
       "      <td>50.000000</td>\n",
       "      <td>78.000000</td>\n",
       "      <td>8.700000e+01</td>\n",
       "    </tr>\n",
       "    <tr>\n",
       "      <th>50%</th>\n",
       "      <td>2006.000000</td>\n",
       "      <td>36.000000</td>\n",
       "      <td>42.000000</td>\n",
       "      <td>54.000000</td>\n",
       "      <td>441.000000</td>\n",
       "      <td>6.384400e+02</td>\n",
       "    </tr>\n",
       "    <tr>\n",
       "      <th>75%</th>\n",
       "      <td>2010.000000</td>\n",
       "      <td>36.000000</td>\n",
       "      <td>50.000000</td>\n",
       "      <td>55.000000</td>\n",
       "      <td>2567.000000</td>\n",
       "      <td>5.615000e+03</td>\n",
       "    </tr>\n",
       "    <tr>\n",
       "      <th>max</th>\n",
       "      <td>2014.000000</td>\n",
       "      <td>37.000000</td>\n",
       "      <td>55.000000</td>\n",
       "      <td>62.000000</td>\n",
       "      <td>877029.000000</td>\n",
       "      <td>7.801620e+08</td>\n",
       "    </tr>\n",
       "  </tbody>\n",
       "</table>\n",
       "</div>"
      ],
      "text/plain": [
       "          Crop_Year   Temperature      humidity  soil moisture           area  \\\n",
       "count  49784.000000  49784.000000  49784.000000   49784.000000   49784.000000   \n",
       "mean    2005.872087     34.445746     44.775269      53.109312    7393.028993   \n",
       "std        5.108602      3.498277      6.662586       5.259326   27983.253218   \n",
       "min     1997.000000     25.000000     35.000000      45.000000       0.200000   \n",
       "25%     2002.000000     34.000000     40.000000      50.000000      78.000000   \n",
       "50%     2006.000000     36.000000     42.000000      54.000000     441.000000   \n",
       "75%     2010.000000     36.000000     50.000000      55.000000    2567.000000   \n",
       "max     2014.000000     37.000000     55.000000      62.000000  877029.000000   \n",
       "\n",
       "         Production  \n",
       "count  4.978400e+04  \n",
       "mean   4.132019e+05  \n",
       "std    1.232609e+07  \n",
       "min    0.000000e+00  \n",
       "25%    8.700000e+01  \n",
       "50%    6.384400e+02  \n",
       "75%    5.615000e+03  \n",
       "max    7.801620e+08  "
      ]
     },
     "execution_count": 12,
     "metadata": {},
     "output_type": "execute_result"
    }
   ],
   "source": [
    "data.describe()"
   ]
  },
  {
   "cell_type": "markdown",
   "metadata": {},
   "source": [
    "# Categorical data handling"
   ]
  },
  {
   "cell_type": "code",
   "execution_count": null,
   "metadata": {
    "scrolled": true
   },
   "outputs": [
    {
     "name": "stderr",
     "output_type": "stream",
     "text": [
      "C:\\Users\\Romes\\AppData\\Local\\Temp\\ipykernel_21856\\1024635225.py:9: SettingWithCopyWarning: \n",
      "A value is trying to be set on a copy of a slice from a DataFrame.\n",
      "Try using .loc[row_indexer,col_indexer] = value instead\n",
      "\n",
      "See the caveats in the documentation: https://pandas.pydata.org/pandas-docs/stable/user_guide/indexing.html#returning-a-view-versus-a-copy\n",
      "  data['State_Name'] = State_Name\n",
      "C:\\Users\\Romes\\AppData\\Local\\Temp\\ipykernel_21856\\1024635225.py:10: SettingWithCopyWarning: \n",
      "A value is trying to be set on a copy of a slice from a DataFrame.\n",
      "Try using .loc[row_indexer,col_indexer] = value instead\n",
      "\n",
      "See the caveats in the documentation: https://pandas.pydata.org/pandas-docs/stable/user_guide/indexing.html#returning-a-view-versus-a-copy\n",
      "  data['District_Name'] = District_Name\n",
      "C:\\Users\\Romes\\AppData\\Local\\Temp\\ipykernel_21856\\1024635225.py:11: SettingWithCopyWarning: \n",
      "A value is trying to be set on a copy of a slice from a DataFrame.\n",
      "Try using .loc[row_indexer,col_indexer] = value instead\n",
      "\n",
      "See the caveats in the documentation: https://pandas.pydata.org/pandas-docs/stable/user_guide/indexing.html#returning-a-view-versus-a-copy\n",
      "  data['Crop'] = crop\n",
      "C:\\Users\\Romes\\AppData\\Local\\Temp\\ipykernel_21856\\1024635225.py:12: SettingWithCopyWarning: \n",
      "A value is trying to be set on a copy of a slice from a DataFrame.\n",
      "Try using .loc[row_indexer,col_indexer] = value instead\n",
      "\n",
      "See the caveats in the documentation: https://pandas.pydata.org/pandas-docs/stable/user_guide/indexing.html#returning-a-view-versus-a-copy\n",
      "  data['Season']  = Season\n"
     ]
    }
   ],
   "source": [
    "from sklearn.preprocessing import LabelEncoder\n",
    "le = LabelEncoder()\n",
    "\n",
    "State_Name = le.fit_transform(data.State_Name)\n",
    "District_Name = le.fit_transform(data.District_Name)\n",
    "#Crop_Year = le.fit_transform(data.Crop_Year)\n",
    "crop = le.fit_transform(data.Crop)\n",
    "Season = le.fit_transform(data.Season)\n",
    "data['State_Name'] = State_Name\n",
    "data['District_Name'] = District_Name\n",
    "data['Crop'] = crop\n",
    "data['Season']  = Season"
   ]
  },
  {
   "cell_type": "code",
   "execution_count": null,
   "metadata": {},
   "outputs": [
    {
     "data": {
      "text/html": [
       "<div>\n",
       "<style scoped>\n",
       "    .dataframe tbody tr th:only-of-type {\n",
       "        vertical-align: middle;\n",
       "    }\n",
       "\n",
       "    .dataframe tbody tr th {\n",
       "        vertical-align: top;\n",
       "    }\n",
       "\n",
       "    .dataframe thead th {\n",
       "        text-align: right;\n",
       "    }\n",
       "</style>\n",
       "<table border=\"1\" class=\"dataframe\">\n",
       "  <thead>\n",
       "    <tr style=\"text-align: right;\">\n",
       "      <th></th>\n",
       "      <th>State_Name</th>\n",
       "      <th>District_Name</th>\n",
       "      <th>Crop_Year</th>\n",
       "      <th>Season</th>\n",
       "      <th>Crop</th>\n",
       "      <th>Temperature</th>\n",
       "      <th>humidity</th>\n",
       "      <th>soil moisture</th>\n",
       "      <th>area</th>\n",
       "      <th>Production</th>\n",
       "    </tr>\n",
       "  </thead>\n",
       "  <tbody>\n",
       "    <tr>\n",
       "      <th>0</th>\n",
       "      <td>0</td>\n",
       "      <td>78</td>\n",
       "      <td>2000</td>\n",
       "      <td>1</td>\n",
       "      <td>0</td>\n",
       "      <td>36</td>\n",
       "      <td>35</td>\n",
       "      <td>45</td>\n",
       "      <td>1254.0</td>\n",
       "      <td>2000.0</td>\n",
       "    </tr>\n",
       "    <tr>\n",
       "      <th>1</th>\n",
       "      <td>0</td>\n",
       "      <td>78</td>\n",
       "      <td>2000</td>\n",
       "      <td>1</td>\n",
       "      <td>46</td>\n",
       "      <td>37</td>\n",
       "      <td>40</td>\n",
       "      <td>46</td>\n",
       "      <td>2.0</td>\n",
       "      <td>1.0</td>\n",
       "    </tr>\n",
       "    <tr>\n",
       "      <th>2</th>\n",
       "      <td>0</td>\n",
       "      <td>78</td>\n",
       "      <td>2000</td>\n",
       "      <td>1</td>\n",
       "      <td>59</td>\n",
       "      <td>36</td>\n",
       "      <td>41</td>\n",
       "      <td>50</td>\n",
       "      <td>102.0</td>\n",
       "      <td>321.0</td>\n",
       "    </tr>\n",
       "    <tr>\n",
       "      <th>3</th>\n",
       "      <td>0</td>\n",
       "      <td>78</td>\n",
       "      <td>2000</td>\n",
       "      <td>4</td>\n",
       "      <td>3</td>\n",
       "      <td>37</td>\n",
       "      <td>42</td>\n",
       "      <td>55</td>\n",
       "      <td>176.0</td>\n",
       "      <td>641.0</td>\n",
       "    </tr>\n",
       "    <tr>\n",
       "      <th>4</th>\n",
       "      <td>0</td>\n",
       "      <td>78</td>\n",
       "      <td>2000</td>\n",
       "      <td>4</td>\n",
       "      <td>12</td>\n",
       "      <td>36</td>\n",
       "      <td>40</td>\n",
       "      <td>54</td>\n",
       "      <td>720.0</td>\n",
       "      <td>165.0</td>\n",
       "    </tr>\n",
       "    <tr>\n",
       "      <th>...</th>\n",
       "      <td>...</td>\n",
       "      <td>...</td>\n",
       "      <td>...</td>\n",
       "      <td>...</td>\n",
       "      <td>...</td>\n",
       "      <td>...</td>\n",
       "      <td>...</td>\n",
       "      <td>...</td>\n",
       "      <td>...</td>\n",
       "      <td>...</td>\n",
       "    </tr>\n",
       "    <tr>\n",
       "      <th>49994</th>\n",
       "      <td>6</td>\n",
       "      <td>46</td>\n",
       "      <td>2006</td>\n",
       "      <td>1</td>\n",
       "      <td>65</td>\n",
       "      <td>36</td>\n",
       "      <td>35</td>\n",
       "      <td>45</td>\n",
       "      <td>27.0</td>\n",
       "      <td>7.0</td>\n",
       "    </tr>\n",
       "    <tr>\n",
       "      <th>49995</th>\n",
       "      <td>6</td>\n",
       "      <td>46</td>\n",
       "      <td>2006</td>\n",
       "      <td>1</td>\n",
       "      <td>66</td>\n",
       "      <td>37</td>\n",
       "      <td>40</td>\n",
       "      <td>46</td>\n",
       "      <td>27.0</td>\n",
       "      <td>32.0</td>\n",
       "    </tr>\n",
       "    <tr>\n",
       "      <th>49996</th>\n",
       "      <td>6</td>\n",
       "      <td>46</td>\n",
       "      <td>2006</td>\n",
       "      <td>1</td>\n",
       "      <td>68</td>\n",
       "      <td>36</td>\n",
       "      <td>41</td>\n",
       "      <td>50</td>\n",
       "      <td>450.0</td>\n",
       "      <td>213.0</td>\n",
       "    </tr>\n",
       "    <tr>\n",
       "      <th>49997</th>\n",
       "      <td>6</td>\n",
       "      <td>46</td>\n",
       "      <td>2006</td>\n",
       "      <td>1</td>\n",
       "      <td>74</td>\n",
       "      <td>37</td>\n",
       "      <td>42</td>\n",
       "      <td>55</td>\n",
       "      <td>1778.0</td>\n",
       "      <td>309.0</td>\n",
       "    </tr>\n",
       "    <tr>\n",
       "      <th>49998</th>\n",
       "      <td>6</td>\n",
       "      <td>46</td>\n",
       "      <td>2006</td>\n",
       "      <td>2</td>\n",
       "      <td>24</td>\n",
       "      <td>36</td>\n",
       "      <td>40</td>\n",
       "      <td>54</td>\n",
       "      <td>216.0</td>\n",
       "      <td>194.0</td>\n",
       "    </tr>\n",
       "  </tbody>\n",
       "</table>\n",
       "<p>49784 rows × 10 columns</p>\n",
       "</div>"
      ],
      "text/plain": [
       "       State_Name  District_Name  Crop_Year  Season  Crop  Temperature  \\\n",
       "0               0             78       2000       1     0           36   \n",
       "1               0             78       2000       1    46           37   \n",
       "2               0             78       2000       1    59           36   \n",
       "3               0             78       2000       4     3           37   \n",
       "4               0             78       2000       4    12           36   \n",
       "...           ...            ...        ...     ...   ...          ...   \n",
       "49994           6             46       2006       1    65           36   \n",
       "49995           6             46       2006       1    66           37   \n",
       "49996           6             46       2006       1    68           36   \n",
       "49997           6             46       2006       1    74           37   \n",
       "49998           6             46       2006       2    24           36   \n",
       "\n",
       "       humidity  soil moisture    area  Production  \n",
       "0            35             45  1254.0      2000.0  \n",
       "1            40             46     2.0         1.0  \n",
       "2            41             50   102.0       321.0  \n",
       "3            42             55   176.0       641.0  \n",
       "4            40             54   720.0       165.0  \n",
       "...         ...            ...     ...         ...  \n",
       "49994        35             45    27.0         7.0  \n",
       "49995        40             46    27.0        32.0  \n",
       "49996        41             50   450.0       213.0  \n",
       "49997        42             55  1778.0       309.0  \n",
       "49998        40             54   216.0       194.0  \n",
       "\n",
       "[49784 rows x 10 columns]"
      ]
     },
     "execution_count": 14,
     "metadata": {},
     "output_type": "execute_result"
    }
   ],
   "source": [
    "data"
   ]
  },
  {
   "cell_type": "code",
   "execution_count": null,
   "metadata": {},
   "outputs": [
    {
     "data": {
      "image/png": "[encoded data removed]",
      "text/plain": [
       "<Figure size 864x720 with 2 Axes>"
      ]
     },
     "metadata": {
      "needs_background": "light"
     },
     "output_type": "display_data"
    }
   ],
   "source": [
    "corr = data.corr()\n",
    "\n",
    "plt.figure(figsize=(12,10))\n",
    "sns.heatmap(corr, annot=True, cmap='rainbow')\n",
    "plt.show()"
   ]
  },
  {
   "cell_type": "code",
   "execution_count": null,
   "metadata": {},
   "outputs": [
    {
     "data": {
      "text/plain": [
       "array([0, 1, 2, 3, 4, 5, 6])"
      ]
     },
     "execution_count": 16,
     "metadata": {},
     "output_type": "execute_result"
    }
   ],
   "source": [
    "data['State_Name'].unique()"
   ]
  },
  {
   "cell_type": "code",
   "execution_count": null,
   "metadata": {},
   "outputs": [
    {
     "data": {
      "text/plain": [
       "array([ 78,  79,  96,   0,  24,  35,  43,  49,  59,  60,  83,  97,  98,\n",
       "       107, 108, 109,   1,  22,  31,  36,  37,  61,  64,  65,  66,  67,\n",
       "        76,  80, 100, 102, 104, 105, 110, 111,   5,  10,  18,  20,  23,\n",
       "        27,  29,  30,  32,  33,  40,  41,  44,  48,  51,  52,  53,  54,\n",
       "        58,  62,  70,  73,  75,  93,  95, 101, 103,   2,   3,   4,   9,\n",
       "        12,  14,  15,  19,  26,  39,  42,  45,  47,  50,  55,  56,  57,\n",
       "        63,  68,  69,  71,  72,  74,  77,  81,  82,  84,  85,  86,  87,\n",
       "        88,  89,  90,  91,  92,  94,  99, 106,  21,   6,   7,   8,  11,\n",
       "        13,  16,  17,  25,  28,  34,  38,  46])"
      ]
     },
     "execution_count": 17,
     "metadata": {},
     "output_type": "execute_result"
    }
   ],
   "source": [
    "data['District_Name'].unique()"
   ]
  },
  {
   "cell_type": "code",
   "execution_count": null,
   "metadata": {},
   "outputs": [
    {
     "data": {
      "text/plain": [
       "array([1, 4, 0, 2, 3, 5])"
      ]
     },
     "execution_count": 18,
     "metadata": {},
     "output_type": "execute_result"
    }
   ],
   "source": [
    "data['Season'].unique()"
   ]
  },
  {
   "cell_type": "code",
   "execution_count": null,
   "metadata": {},
   "outputs": [
    {
     "data": {
      "text/plain": [
       "array([ 0, 46, 59,  3, 12, 15, 21, 67, 69, 70,  7, 20, 79, 73, 35, 39, 74,\n",
       "        1, 26, 68,  2, 13, 17, 28, 29, 32, 57, 71, 24, 76, 37, 64, 34, 60,\n",
       "       42, 78, 61, 65, 16, 55, 44, 66,  5,  6, 10, 14, 19, 25, 36, 43, 77,\n",
       "       45, 47, 49, 53, 72, 38, 18, 33, 54, 63, 11, 58, 50, 40,  9, 75, 22,\n",
       "       23, 41, 56, 30, 51,  8, 48, 52,  4, 62, 31, 27])"
      ]
     },
     "execution_count": 19,
     "metadata": {},
     "output_type": "execute_result"
    }
   ],
   "source": [
    "data['Crop'].unique()"
   ]
  },
  {
   "cell_type": "markdown",
   "metadata": {},
   "source": [
    "# Splitting the dataset for train and test"
   ]
  },
  {
   "cell_type": "code",
   "execution_count": null,
   "metadata": {},
   "outputs": [],
   "source": [
    "from sklearn.model_selection import train_test_split\n",
    "#from sklearn.cross_validation import train_test_split"
   ]
  },
  {
   "cell_type": "code",
   "execution_count": null,
   "metadata": {},
   "outputs": [],
   "source": [
    "X = data.iloc[:,:-1]\n",
    "y = data.iloc[:,-1]"
   ]
  },
  {
   "cell_type": "code",
   "execution_count": null,
   "metadata": {},
   "outputs": [],
   "source": [
    "X_train,X_test,Y_train,Y_test = train_test_split(X,y,test_size=0.2,random_state=100)"
   ]
  },
  {
   "cell_type": "markdown",
   "metadata": {},
   "source": [
    "# Apply algorithm to fit model"
   ]
  },
  {
   "cell_type": "code",
   "execution_count": null,
   "metadata": {},
   "outputs": [
    {
     "name": "stderr",
     "output_type": "stream",
     "text": [
      "C:\\Users\\Romes\\anaconda3\\envs\\csv\\lib\\site-packages\\sklearn\\ensemble\\_forest.py:396: FutureWarning: Criterion 'mse' was deprecated in v1.0 and will be removed in version 1.2. Use `criterion='squared_error'` which is equivalent.\n",
      "  warn(\n"
     ]
    },
    {
     "name": "stdout",
     "output_type": "stream",
     "text": [
      "MSE train: 1469428470792.599, test: 4557059304917.332\n",
      "R^2 train: 0.990, test: 0.970\n"
     ]
    }
   ],
   "source": [
    "from sklearn.ensemble import RandomForestRegressor\n",
    "from sklearn.metrics import roc_auc_score , classification_report, mean_squared_error, r2_score\n",
    "forest = RandomForestRegressor(n_estimators=1000, \n",
    "                               criterion='mse', \n",
    "                               random_state=1, \n",
    "                               n_jobs=-1)\n",
    "forest.fit(X_train, Y_train)\n",
    "y_train_pred = forest.predict(X_train)\n",
    "y_test_pred = forest.predict(X_test)\n",
    "\n",
    "print('MSE train: %.3f, test: %.3f' % (\n",
    "        mean_squared_error(Y_train, y_train_pred),\n",
    "        mean_squared_error(Y_test, y_test_pred)))\n",
    "print('R^2 train: %.3f, test: %.3f' % (\n",
    "        r2_score(Y_train, y_train_pred),\n",
    "        r2_score(Y_test, y_test_pred)))\n",
    "\n"
   ]
  },
  {
   "cell_type": "code",
   "execution_count": null,
   "metadata": {},
   "outputs": [
    {
     "name": "stdout",
     "output_type": "stream",
     "text": [
      "0.9702724954406419\n"
     ]
    }
   ],
   "source": [
    "print(forest.score(X_test,Y_test))"
   ]
  },
  {
   "cell_type": "code",
   "execution_count": null,
   "metadata": {},
   "outputs": [],
   "source": [
    "score_rf=forest.score(X_test,Y_test)"
   ]
  },
  {
   "cell_type": "code",
   "execution_count": null,
   "metadata": {},
   "outputs": [],
   "source": [
    "score_rf=forest.score(X_train,Y_train)"
   ]
  },
  {
   "cell_type": "code",
   "execution_count": null,
   "metadata": {},
   "outputs": [
    {
     "data": {
      "text/plain": [
       "0.9903064206313974"
      ]
     },
     "execution_count": 27,
     "metadata": {},
     "output_type": "execute_result"
    }
   ],
   "source": [
    "score_rf"
   ]
  },
  {
   "cell_type": "code",
   "execution_count": null,
   "metadata": {},
   "outputs": [
    {
     "data": {
      "text/plain": [
       "array([ 304.83275, 1475.626  ,  125.21396, ...,  931.128  ,   86.255  ,\n",
       "         14.372  ])"
      ]
     },
     "execution_count": 28,
     "metadata": {},
     "output_type": "execute_result"
    }
   ],
   "source": [
    "forest.predict(X_test)"
   ]
  },
  {
   "cell_type": "code",
   "execution_count": null,
   "metadata": {},
   "outputs": [],
   "source": [
    "import pickle\n",
    "with open('rf.pkl', 'wb') as file:\n",
    "   pickle.dump(forest, file)"
   ]
  },
  {
   "cell_type": "markdown",
   "metadata": {},
   "source": [
    "# Model2 "
   ]
  },
  {
   "cell_type": "code",
   "execution_count": null,
   "metadata": {},
   "outputs": [
    {
     "data": {
      "text/plain": [
       "DecisionTreeRegressor(random_state=0)"
      ]
     },
     "execution_count": 44,
     "metadata": {},
     "output_type": "execute_result"
    }
   ],
   "source": [
    "# import the regressor\n",
    "from sklearn.tree import DecisionTreeRegressor \n",
    "  \n",
    "# create a regressor object\n",
    "regressor = DecisionTreeRegressor(random_state = 0) \n",
    "  \n",
    "# fit the regressor with X and Y data\n",
    "regressor.fit(X_train, Y_train)"
   ]
  },
  {
   "cell_type": "code",
   "execution_count": null,
   "metadata": {},
   "outputs": [],
   "source": [
    "Y_pred_regressor = regressor.predict(X_test)"
   ]
  },
  {
   "cell_type": "code",
   "execution_count": null,
   "metadata": {},
   "outputs": [],
   "source": [
    "score_dt=regressor.score(X_train, Y_train)"
   ]
  },
  {
   "cell_type": "code",
   "execution_count": null,
   "metadata": {},
   "outputs": [
    {
     "name": "stdout",
     "output_type": "stream",
     "text": [
      "MSE train: 0.000, test: 8905677857384.344\n",
      "R^2 train: 1.000, test: 0.942\n"
     ]
    }
   ],
   "source": [
    "from sklearn.metrics import roc_auc_score , classification_report, mean_squared_error, r2_score\n",
    "y_train_pred = regressor.predict(X_train)\n",
    "y_test_pred = regressor.predict(X_test)\n",
    "\n",
    "print('MSE train: %.3f, test: %.3f' % (\n",
    "        mean_squared_error(Y_train, y_train_pred),\n",
    "        mean_squared_error(Y_test, y_test_pred)))\n",
    "print('R^2 train: %.3f, test: %.3f' % (\n",
    "        r2_score(Y_train, y_train_pred),\n",
    "        r2_score(Y_test, y_test_pred)))"
   ]
  },
  {
   "cell_type": "code",
   "execution_count": null,
   "metadata": {},
   "outputs": [],
   "source": [
    "import pickle\n",
    "with open('decision.pkl', 'wb') as file:\n",
    "   pickle.dump(regressor, file)"
   ]
  },
  {
   "cell_type": "code",
   "execution_count": null,
   "metadata": {},
   "outputs": [
    {
     "name": "stdout",
     "output_type": "stream",
     "text": [
      "the accuracy score achieved usingSVMis :-0.0011517278279586929 %\n",
      "the accuracy score achieved usinglinear regressoris :0.007087406566488652 %\n",
      "the accuracy score achieved usingrandom forestis :0.9702724954406419 %\n",
      "the accuracy score achieved usingDecisiontreeis :1.0 %\n"
     ]
    }
   ],
   "source": [
    "scores = [score_rf,score_dt]\n",
    "algorithems = ['random forest','Decisiontree']\n",
    "\n",
    "for i in range(len(algorithems)):\n",
    "    print('the accuracy score achieved using' +algorithems[i]+ 'is :'+str(scores[i])+\" %\")"
   ]
  },
  {
   "cell_type": "code",
   "execution_count": null,
   "metadata": {},
   "outputs": [
    {
     "name": "stderr",
     "output_type": "stream",
     "text": [
      "C:\\Users\\Romes\\anaconda3\\envs\\csv\\lib\\site-packages\\seaborn\\_decorators.py:36: FutureWarning: Pass the following variables as keyword args: x, y. From version 0.12, the only valid positional argument will be `data`, and passing other arguments without an explicit keyword will result in an error or misinterpretation.\n",
      "  warnings.warn(\n"
     ]
    },
    {
     "data": {
      "text/plain": [
       "<AxesSubplot:xlabel='algo', ylabel='score'>"
      ]
     },
     "execution_count": 50,
     "metadata": {},
     "output_type": "execute_result"
    },
    {
     "data": {
      "image/png": "[encoded data removed]",
      "text/plain": [
       "<Figure size 1080x576 with 1 Axes>"
      ]
     },
     "metadata": {},
     "output_type": "display_data"
    }
   ],
   "source": [
    "import matplotlib.pyplot as plt\n",
    "sns.set(rc={'figure.figsize':(15,8)})\n",
    "plt.xlabel('algo')\n",
    "plt.ylabel('score')\n",
    "sns.barplot(algorithems,scores)"
   ]
  },
  {
   "cell_type": "code",
   "execution_count": null,
   "metadata": {},
   "outputs": [],
   "source": [
    "state = input('enter State:--->')\n",
    "district = input('enter District:--->')\n",
    "year = input('enter Year:--->')\n",
    "season = input('enter Season:--->')\n",
    "crop = input('enter Crop:--->')\n",
    "Temperature = input('enter Temperature:--->')\n",
    "humidity= input('enter Humidity:--->')\n",
    "soilmoisture= input('enter Soilmoisture:---->')\n",
    "area = input('enter area(in Hectares):--->')\n",
    "\n",
    "out_1 = forest.predict([[float(state),\n",
    "       float(district),\n",
    "       float(year),\n",
    "       float(season),\n",
    "       float(crop),\n",
    "       float(Temperature),\n",
    "       float(humidity),\n",
    "       float(soilmoisture),\n",
    "       float(area)]])\n",
    "print(out_1)\n",
    "print('crop yield Production(in Tones):',out_1)\n"
   ]
  },
  {
   "cell_type": "markdown",
   "metadata": {},
   "source": [
    "# GUI"
   ]
  },
  {
   "cell_type": "code",
   "execution_count": 1,
   "metadata": {},
   "outputs": [],
   "source": [
    "from tkinter import *\n",
    "from tkinter import ttk\n",
    "\n",
    "root = Tk()\n",
    "root.title('Crop Yield Prediction')\n",
    "root.geometry('850x650')\n",
    "root.configure(background=\"green\")\n",
    "var = StringVar()\n",
    "label = Label( root, textvariable = var,font=('arial',20,'bold'),bd=20,background=\"green\")\n",
    "var.set('Crop Yield Prediction')\n",
    "label.grid(row=0,columnspan=6)\n",
    "\n",
    "\n",
    "\n",
    "label_1 = ttk.Label(root, text ='State',font=(\"Helvetica\", 16),background=\"green\")\n",
    "label_1.grid(row=11,column=0)\n",
    "    \n",
    "Entry_1= Entry(root)\n",
    "Entry_1.grid(row=11,column=1)\n",
    "\n",
    "label_2 = ttk.Label(root, text ='District',font=(\"Helvetica\", 16),background=\"green\")\n",
    "label_2.grid(row=12,column=0)\n",
    "    \n",
    "Entry_2 = Entry(root)\n",
    "Entry_2.grid(row=12,column=1)\n",
    "    \n",
    "    \n",
    "label_3 = ttk.Label(root, text ='Year',font=(\"Helvetica\", 16),background=\"green\")\n",
    "label_3.grid(row=13,column=0)\n",
    "    \n",
    "Entry_3 = Entry(root)\n",
    "Entry_3.grid(row=13,column=1)\n",
    "\n",
    "label_4 = ttk.Label(root, text ='Season',font=(\"Helvetica\", 16),background=\"green\")\n",
    "label_4.grid(row=14,column=0)\n",
    "    \n",
    "Entry_4= Entry(root)\n",
    "Entry_4.grid(row=14,column=1)\n",
    "\n",
    "label_5 = ttk.Label(root, text ='Crop',font=(\"Helvetica\", 16),background=\"green\")\n",
    "label_5.grid(row=15,column=0)\n",
    "    \n",
    "Entry_5 = Entry(root)\n",
    "Entry_5.grid(row=15,column=1)\n",
    "    \n",
    "    \n",
    "label_6 = ttk.Label(root, text ='Temperature',font=(\"Helvetica\", 16),background=\"green\")\n",
    "label_6.grid(row=16,column=0)\n",
    "    \n",
    "Entry_6 = Entry(root)\n",
    "Entry_6.grid(row=16,column=1)\n",
    "\n",
    "label_7 = ttk.Label(root, text ='Humidity',font=(\"Helvetica\", 16),background=\"green\")\n",
    "label_7.grid(row=17,column=0)\n",
    "    \n",
    "Entry_7= Entry(root)\n",
    "Entry_7.grid(row=17,column=1)\n",
    "\n",
    "label_8 = ttk.Label(root, text ='Soilmoisture',font=(\"Helvetica\", 16),background=\"green\")\n",
    "label_8.grid(row=18,column=0)\n",
    "\n",
    "Entry_8 = Entry(root)\n",
    "Entry_8.grid(row=18,column=1)\n",
    "    \n",
    "    \n",
    "label_9 = ttk.Label(root, text ='Area(in Hectares)',font=(\"Helvetica\", 16),background=\"green\")\n",
    "label_9.grid(row=19,column=0)\n",
    "    \n",
    "Entry_9 = Entry(root)\n",
    "Entry_9.grid(row=19,column=1)\n",
    "\n",
    "\n",
    "def predict():\n",
    "    state = Entry_1.get()\n",
    "    district = Entry_2.get()\n",
    "    year = Entry_3.get()\n",
    "    season = Entry_4.get()\n",
    "    crop = Entry_5.get()\n",
    "    Temperature = Entry_6.get()\n",
    "    humidity = Entry_7.get()\n",
    "    soilmoisture = Entry_8.get()\n",
    "    area = Entry_9.get()\n",
    "    out = forest.predict([[float(state),\n",
    "       float(district),\n",
    "       float(year),\n",
    "       float(season),\n",
    "       float(crop),\n",
    "       float(Temperature),\n",
    "       float(humidity),\n",
    "       float(soilmoisture),\n",
    "       float(area)]])\n",
    "    \n",
    "    output.delete(0,END)\n",
    "    output.insert(0,out[0])\n",
    "   \n",
    "   \n",
    "\n",
    "b1 = Button(root, text = 'Production(in Tones)',font=(\"Helvetica\", 16),background=\"gray\",command = predict)\n",
    "b1.grid(row=20,column=0)\n",
    "    \n",
    "\n",
    "\n",
    "output = Entry(root)\n",
    "output.grid(row=20,column=1)\n",
    "    \n",
    "root.mainloop()"
   ]
  },
  {
   "cell_type": "code",
   "execution_count": null,
   "metadata": {},
   "outputs": [],
   "source": []
  }
 ],
 "metadata": {
  "kernelspec": {
   "display_name": "Python 3 (ipykernel)",
   "language": "python",
   "name": "python3"
  },
  "language_info": {
   "codemirror_mode": {
    "name": "ipython",
    "version": 3
   },
   "file_extension": ".py",
   "mimetype": "text/x-python",
   "name": "python",
   "nbconvert_exporter": "python",
   "pygments_lexer": "ipython3",
   "version": "3.9.12"
  },
  "vscode": {
   "interpreter": {
    "hash": "060e1c278c41b909fe82849e089755cb884d2ce0e0959afa3dcbd4ccd9205547"
   }
  }
 },
 "nbformat": 4,
 "nbformat_minor": 1
}
